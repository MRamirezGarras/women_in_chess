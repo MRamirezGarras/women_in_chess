{
 "cells": [
  {
   "cell_type": "markdown",
   "metadata": {},
   "source": [
    "# Women in chess\n",
    "\n",
    "The objective of this notebook is to analyze possible causes of the lower rating of women in chess compared to men. \n",
    "There are several questions I want to address:\n",
    "- percentage of women playing chess\n",
    "- women rating along time\n",
    "- women top level at different ages and/or along last years\n",
    "\n",
    "## Percentage of women playing chess"
   ]
  },
  {
   "cell_type": "code",
   "execution_count": null,
   "metadata": {},
   "outputs": [],
   "source": [
    "#import packages\n",
    "import pandas as pd\n",
    "import os\n",
    "from plotnine import *"
   ]
  },
  {
   "cell_type": "code",
   "execution_count": null,
   "metadata": {},
   "outputs": [],
   "source": [
    "#Read data\n",
    "#FIDE files have 2 different formats. Files with each format are in a different folder\n",
    "#Read files with old format\n",
    "old_names = os.listdir(\"data\\old_format\")\n",
    "\n",
    "#Create 2 list to store information\n",
    "df_list_number = []#List for the percentage of women\n",
    "df_list_elo = []#List for the difference in rating\n",
    "\n",
    "for name in old_names:\n",
    "    year = name[3:5]#Get year from file name\n",
    "    data = pd.read_fwf(f'data\\old_format\\{name}', delimiter=' ')\n",
    "    data_w = data.loc[(data.Flag == \"w\") | (data.Flag == \"wi\")]\n",
    "    data_m = data.loc[(data.Flag != \"w\") & (data.Flag != \"wi\")]\n",
    "    percent_w = data_w.shape[0] / data.shape[0] *100\n",
    "    percent_m = 100 - percent_w\n",
    "    elo_w = data_w.iloc[:,3 ].mean()\n",
    "    elo_m = data_m.iloc[:,3 ].mean()\n",
    "    #Add info to list as dictionary\n",
    "    df_list_number.append({\"year\": \"20\" + str(year), \"percent\": percent_w, \"Sex\": \"Women\"})\n",
    "    df_list_number.append({\"year\": \"20\" + str(year), \"percent\": percent_m, \"Sex\": \"Men\"})\n",
    "    df_list_elo.append({\"year\": \"20\" + str(year), \"elo\": elo_w, \"Sex\": \"Women\"})\n",
    "    df_list_elo.append({\"year\": \"20\" + str(year), \"elo\": elo_m, \"Sex\": \"Men\"})\n",
    "\n",
    "#Read files with new format\n",
    "new_names = os.listdir(\"data\\\\new_format\")\n",
    "\n",
    "for name in new_names:\n",
    "    year = pd.to_numeric(name[12:14])\n",
    "    if year < 17:#Format changed after 16, adding one column. This selects the right column for ranking\n",
    "        num = 7\n",
    "    else:\n",
    "        num=8\n",
    "    data = pd.read_fwf(f'data\\\\new_format\\{name}', delimiter=' ')\n",
    "    data.iloc[:, num] = pd.to_numeric(data.iloc[:, num], errors=\"coerce\")\n",
    "    data_w = data.loc[data.Sex == \"F\"]\n",
    "    data_m = data.loc[data.Sex == \"M\"]\n",
    "    percent_w = data_w.shape[0] / data.shape[0] * 100\n",
    "    percent_m = 100 - percent_w\n",
    "    elo_w = data_w.iloc[:,num].mean()\n",
    "    elo_m = data_m.iloc[:,num].mean()\n",
    "\n",
    "    df_list_number.append({\"year\": \"20\" + str(year), \"percent\": percent_w, \"Sex\": \"Women\"})\n",
    "    df_list_number.append({\"year\": \"20\" + str(year), \"percent\": percent_m, \"Sex\": \"Men\"})\n",
    "    df_list_elo.append({\"year\": \"20\" + str(year), \"elo\": elo_w, \"Sex\": \"Women\"})\n",
    "    df_list_elo.append({\"year\": \"20\" + str(year), \"elo\": elo_m, \"Sex\": \"Men\"})\n",
    "\n",
    "#Convert lists of dictionaries into dataframes\n",
    "df_number = pd.DataFrame(df_list_number, columns= [\"year\", \"percent\", \"Sex\"])\n",
    "df_elo = pd.DataFrame(df_list_elo, columns= [\"year\", \"elo\", \"Sex\"])"
   ]
  },
  {
   "cell_type": "code",
   "execution_count": null,
   "metadata": {},
   "outputs": [],
   "source": [
    "#Plot percentage of women per year\n",
    "df_number.year = pd.to_numeric(df_number.year)\n",
    "\n",
    "df_number = df_number.sort_values(\"year\")\n",
    "\n",
    "#Plot percentage of women per year\n",
    "ggplot(df_number[df_number.Sex == \"Women\"], aes(x=\"year\", y=\"percent\")) + \\\n",
    "    geom_bar(stat=\"identity\", fill = \"Blue\") + \\\n",
    "    labs(x=\"Year\", y= \"Percentage women\", title = \"Percentage of women in chess\") + \\\n",
    "    coord_cartesian(ylim=(0, 12)) + \\\n",
    "    theme_classic()"
   ]
  },
  {
   "cell_type": "markdown",
   "metadata": {},
   "source": [
    "We can see a clear increase in the percentage of women per year. The proportion almost doubles in the last 15 years."
   ]
  },
  {
   "cell_type": "markdown",
   "metadata": {},
   "source": [
    "## Rating difference between men and women"
   ]
  },
  {
   "cell_type": "code",
   "execution_count": null,
   "metadata": {},
   "outputs": [],
   "source": [
    "df_elo.year = pd.to_numeric(df_elo.year)\n",
    "df_elo = df_elo.sort_values(\"year\")\n",
    "\n",
    "#Plot mean rating in men and women per year\n",
    "ggplot(df_elo, aes(x=\"year\", y = \"elo\", fill=\"Sex\")) + \\\n",
    "    geom_bar(stat=\"identity\", position = \"dodge\") + \\\n",
    "    labs(x=\"Year\", y=\"Elo rating\", title=\"Elo rating for men and women\") + \\\n",
    "    coord_cartesian(ylim=(1000, 2100) )+ \\\n",
    "    theme_classic() + \\\n",
    "    theme(legend_position = (0.8, 0.8))"
   ]
  },
  {
   "cell_type": "markdown",
   "metadata": {},
   "source": [
    "The rating difference was lower 15 years ago, but this is difficult to compare because the floor rating for players had decreased in the last years. Anyway, it does not seem to be a change in the last 5-6 years."
   ]
  },
  {
   "cell_type": "markdown",
   "metadata": {},
   "source": [
    "## Women representation in top 100 by age"
   ]
  },
  {
   "cell_type": "code",
   "execution_count": null,
   "metadata": {},
   "outputs": [],
   "source": [
    "#Get number of women in top 100 for 4 differnt years: 2006, 2011, 2016, 2021\n",
    "#read data into dataframes\n",
    "data06 = pd.read_fwf('data\\old_format\\JUL06FRL.TXT', delimiter=' ')\n",
    "data06[['games','year']] = data06.GamesBorn.str.split(\"  \",expand=True,)#Split wrong column\n",
    "data06[\"year\"] = pd.to_numeric(data06[\"year\"])\n",
    "data06[\"games\"] = pd.to_numeric(data06[\"games\"])\n",
    "data06[\"age\"] = 2006 - data06[\"year\"]\n",
    "data06.dropna(subset=[\"Jul06\"], inplace=True)\n",
    "\n",
    "\n",
    "data11 = pd.read_fwf('data\\old_format\\may11frl.txt', delimiter=' ')\n",
    "data11[['games','year']] = data11.GamesBorn.str.split(\"  \",expand=True,)#Split wrong column\n",
    "data11[\"year\"] = pd.to_numeric(data11[\"year\"])\n",
    "data11[\"games\"] = pd.to_numeric(data11[\"games\"])\n",
    "data11[\"age\"] = 2011 - data11[\"year\"]\n",
    "data11.dropna(subset=[\"May10\"], inplace=True)\n",
    "\n",
    "data16 = pd.read_fwf('data\\\\new_format\\standard_may16frl.TXT', delimiter=' ')\n",
    "data16.rename(columns={\"B-day\": \"year\"}, inplace = True)#Rename B-day column to remove \"-\"\n",
    "data16[\"MAY16\"] = pd.to_numeric(data16[\"MAY16\"])\n",
    "data16[\"year\"] = pd.to_numeric(data16[\"year\"])\n",
    "data16[\"age\"] = 2016 - data16[\"year\"]\n",
    "\n",
    "data21 = pd.read_fwf('data\\\\new_format\\standard_mar21frl.TXT', delimiter=' ')\n",
    "data21 = data21[data21.MAR21 != \"M 189\"] #Fix a wrong line\n",
    "data21.rename(columns={\"B-day\": \"year\"}, inplace = True)#Rename B-day column to remove \"-\"\n",
    "data21[\"MAR21\"] = pd.to_numeric(data21[\"MAR21\"])\n",
    "data21[\"year\"] = pd.to_numeric(data21[\"year\"])\n",
    "data21[\"age\"] = 2021 - data21[\"year\"]\n"
   ]
  },
  {
   "cell_type": "code",
   "execution_count": null,
   "metadata": {},
   "outputs": [],
   "source": [
    "##Create data frame with data\n",
    "#Current year / 2021\n",
    "#Remove inactive players\n",
    "data21 = data21[data21.Flag != \"i\"]\n",
    "data21 = data21[data21.Flag != \"wi\"]\n",
    "ages = list(range(11, 44, 3))#Choose ages to analyze\n",
    "df_list = []\n",
    "\n",
    "for age in ages:\n",
    "    data = data21[data21[\"age\"] < age]\n",
    "    data = data.sort_values(\"MAR21\", ascending=False)\n",
    "    data = data.head(100)\n",
    "    percentage = data[data[\"Sex\"] == \"F\"].shape[0]\n",
    "\n",
    "    df_list.append({\"age\": \"under \" + str(age) , \"percentage\": percentage, \"year\": 2021})#Append info as dictionary\n",
    "\n",
    "#Past years\n",
    "#Year 16\n",
    "data16 = data16[data16.Flag != \"i\"]\n",
    "data16 = data16[data16.Flag != \"wi\"]\n",
    "\n",
    "for age in ages:\n",
    "    data = data16[data16[\"age\"] < age]\n",
    "    data = data.sort_values(\"MAY16\", ascending=False)\n",
    "    data = data.head(100)\n",
    "    percentage = data[data[\"Sex\"] == \"F\"].shape[0]\n",
    "\n",
    "    df_list.append({\"age\": \"under \" + str(age) , \"percentage\": percentage, \"year\": 2016})\n",
    "\n",
    "#Year 11\n",
    "data11 = data11[data11.Flag != \"i\"]\n",
    "data11 = data11[data11.Flag != \"wi\"]\n",
    "\n",
    "\n",
    "for age in ages:\n",
    "    data = data11[data11[\"age\"] < age]\n",
    "    data = data.sort_values(\"May10\", ascending=False)\n",
    "    data = data.head(100)\n",
    "    percentage = data[data[\"Flag\"] == \"w\"].shape[0]\n",
    "\n",
    "    df_list.append({\"age\": \"under \" + str(age) , \"percentage\": percentage, \"year\": 2011})\n",
    "\n",
    "\n",
    "#Year 06\n",
    "data06 = data06[data06.Flag != \"i\"]\n",
    "data06 = data06[data06.Flag != \"wi\"]\n",
    "\n",
    "for age in ages:\n",
    "    data = data06[data06[\"age\"] < age]\n",
    "    data = data.sort_values(\"Jul06\", ascending=False)\n",
    "    data = data.head(100)\n",
    "    percentage = data[data[\"Flag\"] == \"w\"].shape[0]\n",
    "\n",
    "    df_list.append({\"age\": \"under \" + str(age) , \"percentage\": percentage, \"year\": 2006})\n",
    "\n",
    "#convert list of dictionaries into dataframe\n",
    "df = pd.DataFrame(df_list, columns= [\"age\", \"percentage\", \"year\"])"
   ]
  },
  {
   "cell_type": "code",
   "execution_count": null,
   "metadata": {},
   "outputs": [],
   "source": [
    "#Plot data for 2021\n",
    "ggplot(df[df.year == 2021], aes(x=\"age\", y=\"percentage\")) + \\\n",
    "    geom_bar(stat=\"identity\", fill = \"Blue\") + \\\n",
    "    labs(x=\"Age\", y= \"Number of women\", title = \"Number of women in top 100 players - 2021\") + \\\n",
    "    theme_classic() + \\\n",
    "    theme(axis_text_x=element_text(rotation=45, hjust=1))"
   ]
  },
  {
   "cell_type": "markdown",
   "metadata": {},
   "source": [
    "There is a sharp decrease of women at top level during teenage years. Is this a trend that has happened before?"
   ]
  },
  {
   "cell_type": "code",
   "execution_count": null,
   "metadata": {},
   "outputs": [],
   "source": [
    "#Plot all data\n",
    "ggplot(df, aes(x=\"age\", y=\"percentage\")) + \\\n",
    "    geom_bar(stat=\"identity\", fill = \"Blue\") + \\\n",
    "    labs(y= \"Number of women\", title = \"Number of women in top 100 players\") + \\\n",
    "    theme_classic() + \\\n",
    "    theme(axis_text_x=element_text(rotation=45, hjust=1)) + \\\n",
    "    facet_wrap (\"~year\")"
   ]
  },
  {
   "cell_type": "markdown",
   "metadata": {},
   "source": [
    "We see that the number of women in top level decreases with age, specially after starting adult age. There could be social causes to explain this drop. "
   ]
  }
 ],
 "metadata": {
  "kernelspec": {
   "display_name": "Python 3",
   "language": "python",
   "name": "python3"
  },
  "language_info": {
   "codemirror_mode": {
    "name": "ipython",
    "version": 3
   },
   "file_extension": ".py",
   "mimetype": "text/x-python",
   "name": "python",
   "nbconvert_exporter": "python",
   "pygments_lexer": "ipython3",
   "version": "3.8.5"
  }
 },
 "nbformat": 4,
 "nbformat_minor": 4
}
